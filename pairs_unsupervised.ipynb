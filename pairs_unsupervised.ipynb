{
 "cells": [
  {
   "cell_type": "markdown",
   "metadata": {},
   "source": [
    "# Pairs Traiding through Unsupervised Learning"
   ]
  },
  {
   "cell_type": "code",
   "execution_count": null,
   "metadata": {},
   "outputs": [],
   "source": [
    "import numpy as np\n",
    "import pandas as pd\n",
    "import datetime as dt\n",
    "import matplotlib.pyplot as plt\n",
    "import seaborn as sns\n",
    "from tqdm.auto import tqdm\n",
    "\n",
    "tqdm.pandas()\n",
    "\n",
    "FILEPATH = \"./data/historic_characteristics.csv\"\n",
    "FILEPATH_PARQ = \"./data/historic_characteristics.parquet\"\n",
    "FILEPATH_MOM_PARQ = \"./data/data_mom.parquet\"\n",
    "FILEPATH_CLEAN_PARQ = \"./data/data_cleaning.parquet\"\n",
    "FILEPATH_PRE_PARQ = \"./data/data_preprocessed.parquet\"\n",
    "\n",
    "MIN_YEAR=1980\n",
    "MAX_YEAR=2021\n",
    "CHUNKS = 10000\n",
    "\n",
    "FEATURES = [\n",
    "    \"DATE\", \"absacc\", \"acc\", \"aeavol\", \"age\", \"agr\", \"baspread\", \"beta\", \"betasq\", \"bm\",\n",
    "    \"bm_ia\", \"cash\", \"cashdebt\", \"cashpr\", \"cfp\", \"cfp_ia\", \"chatoia\", \"chcsho\", \"chempia\",\n",
    "    \"chinv\", \"chmom\", \"chpmia\", \"chtx\", \"cinvest\", \"convind\", \"currat\", \"depr\", \"divi\",\n",
    "    \"divo\", \"dolvol\", \"dy\", \"ear\", \"egr\", \"ep\", \"gma\", \"herf\", \"hire\", \"idiovol\", \"ill\",\n",
    "    \"indmom\", \"invest\", \"lev\", \"lgr\", \"maxret\", \"mom1m\", \"ms\", \"mve_ia\", \"mvel1\", \"nincr\",\n",
    "    \"operprof\", \"pchcapx_ia\", \"pchcurrat\", \"pchdepr\", \"pchgm_pchsale\", \"pchquick\",\n",
    "    \"pchsale_pchrect\", \"pctacc\", \"permno\", \"pricedelay\", \"ps\", \"quick\", \"rd\", \"retvol\",\n",
    "    \"roaq\", \"roeq\", \"roic\", \"rsup\", \"salecash\", \"salerec\", \"securedind\", \"sgr\", \"sic2\",\n",
    "    \"sin\", \"sp\", \"std_dolvol\", \"std_turn\", \"tang\", \"tb\", \"turn\", \"zerotrade\"\n",
    "]\n",
    "WINDOW = 48\n",
    "MOM_FEATURES = [f\"mom{i}m\" for i in range(1, WINDOW + 1)]"
   ]
  },
  {
   "cell_type": "markdown",
   "metadata": {},
   "source": [
    "# Data Wrangling\n",
    "\n",
    "## Parquet Dataset Creation\n",
    "\n",
    "The dataset is large, around 3GB of company characteristics from 1985 to 2021. This dataset has been currated for the papers [\"Empirical Asset Pricing via Machine Learning\"](https://dachxiu.chicagobooth.edu/download/ML.pdf)(2018) and [\"Autoencoder Asset Pricing Models.\" ](https://www.sciencedirect.com/science/article/abs/pii/S0304407620301998)(2019) by Shihao Gu, Bryan Kelly and Dacheng Xiu. The raw format is available for download from the authors [personal website](https://sites.google.com/view/agoyal145) (or reach out to me for a currated dataset). The dataset has 94 1 month Lagged Firm Characteristics (as the CRSP releases these with a month delay, from the notes in their papers). Note that this CRSP datasets don't have tickers or company names, but use a permanent indentifier instead, which if you have a bloomberg terminal or access to a research site that brokers this data, you can easily convert to the company ticker."
   ]
  },
  {
   "cell_type": "code",
   "execution_count": null,
   "metadata": {},
   "outputs": [],
   "source": [
    "import pyarrow as pa\n",
    "import pyarrow.parquet as pq\n",
    "import dask\n",
    "dask.config.set({'dataframe.query-planning': True})\n",
    "import dask.dataframe as dd\n",
    "\n",
    "CONVERT = False\n",
    "if CONVERT:\n",
    "    # In case its in CSV, convert it to parquet for easy processing.\n",
    "    chars_df = pd.read_csv(FILEPATH)[FEATURES]\n",
    "    chars_df['DATE'] = pd.to_datetime(chars_df['DATE'], format='%Y%m%d')\n",
    "    chars_df = chars_df[(chars_df['DATE'].dt.year >= MIN_YEAR) & (chars_df['DATE'].dt.year <= MAX_YEAR)]\n",
    "    chars_df = chars_df.sort_values(\"DATE\")\n",
    "    chars_df.to_parquet(FILEPATH_PARQ, index=False, compression=\"snappy\")\n",
    "else:\n",
    "    chars_df = pd.read_parquet(FILEPATH_PARQ)\n",
    "\n",
    "chars_df.tail(5)"
   ]
  },
  {
   "cell_type": "markdown",
   "metadata": {},
   "source": [
    "## Sanitinzation and Feature Engineering\n",
    "\n",
    "To sanitinize we drop any company with insufficiant data to fill a window, and we fill any missing characteristic with the median of that window. We then perform a rolling window to calculate the MOM factor for 2 to 64 months, the data already has a rolling 1 month momentum. To read about momentum stratgies check out the article [Momentum and Reversion Trading Signals Analysis](https://medium.com/call-for-atlas/momentum-and-reversion-the-poor-mans-trading-strategies-9b8e1e6d3496).\n"
   ]
  },
  {
   "cell_type": "code",
   "execution_count": null,
   "metadata": {},
   "outputs": [],
   "source": [
    "import pyarrow as pa\n",
    "import pyarrow.parquet as pq\n",
    "\n",
    "PRE_PROC=True\n",
    "if PRE_PROC:\n",
    "    valid_groups = chars_df.groupby('permno').filter(lambda x: len(x) >= WINDOW and x['mom1m'].isna().sum() <= 2)\n",
    "    for i in tqdm(range(2, WINDOW), desc=\"moms\"):\n",
    "        rolling_func = lambda x: (x + 1).rolling(window=i).apply(np.prod, raw=True) - 1\n",
    "        valid_groups[f'mom{i}m'] = valid_groups.groupby('permno')['mom1m'].transform(rolling_func)\n",
    "\n",
    "    def interpolate_with_median(group):\n",
    "        for column in FEATURES:\n",
    "\n",
    "            if column in group.columns:\n",
    "                rolling_median = group[column].rolling(window=WINDOW, min_periods=1).median()\n",
    "                filled_na = group[column].fillna(rolling_median)\n",
    "                group[column] = filled_na.transform(lambda x: x.fillna(x.median()))\n",
    "        return group\n",
    "    valid_groups = valid_groups.groupby('permno').apply(interpolate_with_median)\n",
    "\n",
    "\n",
    "valid_groups.to_parquet(FILEPATH_PRE_PARQ, index=False, compression=\"snappy\")\n",
    "valid_groups.tail(25)"
   ]
  }
 ],
 "metadata": {
  "kernelspec": {
   "display_name": "quant",
   "language": "python",
   "name": "python3"
  },
  "language_info": {
   "codemirror_mode": {
    "name": "ipython",
    "version": 3
   },
   "file_extension": ".py",
   "mimetype": "text/x-python",
   "name": "python",
   "nbconvert_exporter": "python",
   "pygments_lexer": "ipython3",
   "version": "3.11.0"
  }
 },
 "nbformat": 4,
 "nbformat_minor": 2
}
