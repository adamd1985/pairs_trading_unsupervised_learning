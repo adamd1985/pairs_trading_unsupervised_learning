{
 "cells": [
  {
   "cell_type": "markdown",
   "metadata": {},
   "source": [
    "# Pairs Traiding through Unsupervised Learning"
   ]
  },
  {
   "cell_type": "code",
   "execution_count": null,
   "metadata": {},
   "outputs": [],
   "source": [
    "import numpy as np\n",
    "import pandas as pd\n",
    "import datetime as dt\n",
    "import matplotlib.pyplot as plt\n",
    "import seaborn as sns\n",
    "from tqdm.auto import tqdm\n",
    "\n",
    "tqdm.pandas()\n",
    "\n",
    "FILEPATH = \"./data/historic_characteristics.csv\"\n",
    "FILEPATH_PARQ = \"./data/historic_characteristics.parquet\"\n",
    "FILEPATH_MOM_PARQ = \"./data/data_mom.parquet\"\n",
    "FILEPATH_CLEAN_PARQ = \"./data/data_cleaning.parquet\"\n",
    "FILEPATH_PRE_PARQ = \"./data/data_preprocessed.parquet\"\n",
    "\n",
    "MIN_YEAR=1980\n",
    "MAX_YEAR=2021\n",
    "CHUNKS = 10000\n",
    "\n",
    "FEATURES = [\n",
    "    \"DATE\", \"absacc\", \"acc\", \"aeavol\", \"age\", \"agr\", \"baspread\", \"beta\", \"betasq\", \"bm\",\n",
    "    \"bm_ia\", \"cash\", \"cashdebt\", \"cashpr\", \"cfp\", \"cfp_ia\", \"chatoia\", \"chcsho\", \"chempia\",\n",
    "    \"chinv\", \"chmom\", \"chpmia\", \"chtx\", \"cinvest\", \"convind\", \"currat\", \"depr\", \"divi\",\n",
    "    \"divo\", \"dolvol\", \"dy\", \"ear\", \"egr\", \"ep\", \"gma\", \"herf\", \"hire\", \"idiovol\", \"ill\",\n",
    "    \"indmom\", \"invest\", \"lev\", \"lgr\", \"maxret\", \"mom1m\", \"ms\", \"mve_ia\", \"mvel1\", \"nincr\",\n",
    "    \"operprof\", \"pchcapx_ia\", \"pchcurrat\", \"pchdepr\", \"pchgm_pchsale\", \"pchquick\",\n",
    "    \"pchsale_pchrect\", \"pctacc\", \"permno\", \"pricedelay\", \"ps\", \"quick\", \"rd\", \"retvol\",\n",
    "    \"roaq\", \"roeq\", \"roic\", \"rsup\", \"salecash\", \"salerec\", \"securedind\", \"sgr\", \"sic2\",\n",
    "    \"sin\", \"sp\", \"std_dolvol\", \"std_turn\", \"tang\", \"tb\", \"turn\", \"zerotrade\"\n",
    "]\n",
    "WINDOW = 48\n",
    "MOM_FEATURES = [f\"mom{i}m\" for i in range(1, WINDOW + 1)]"
   ]
  },
  {
   "cell_type": "markdown",
   "metadata": {},
   "source": [
    "# Data Wrangling\n",
    "\n",
    "## Parquet Dataset Creation\n",
    "\n",
    "The dataset is large, around 3GB of company characteristics from 1985 to 2021. This dataset has been currated for the papers [\"Empirical Asset Pricing via Machine Learning\"](https://dachxiu.chicagobooth.edu/download/ML.pdf)(2018) and [\"Autoencoder Asset Pricing Models.\" ](https://www.sciencedirect.com/science/article/abs/pii/S0304407620301998)(2019) by Shihao Gu, Bryan Kelly and Dacheng Xiu. The raw format is available for download from the authors [personal website](https://sites.google.com/view/agoyal145) (or reach out to me for a currated dataset). The dataset has 94 1 month Lagged Firm Characteristics (as the CRSP releases these with a month delay, from the notes in their papers). Note that this CRSP datasets don't have tickers or company names, but use a permanent indentifier instead, which if you have a bloomberg terminal or access to a research site that brokers this data, you can easily convert to the company ticker."
   ]
  },
  {
   "cell_type": "code",
   "execution_count": null,
   "metadata": {},
   "outputs": [],
   "source": [
    "import pyarrow as pa\n",
    "import pyarrow.parquet as pq\n",
    "import dask\n",
    "dask.config.set({'dataframe.query-planning': True})\n",
    "import dask.dataframe as dd\n",
    "\n",
    "CONVERT = False\n",
    "if CONVERT:\n",
    "    # In case its in CSV, convert it to parquet for easy processing.\n",
    "    chars_df = pd.read_csv(FILEPATH)[FEATURES]\n",
    "    chars_df['DATE'] = pd.to_datetime(chars_df['DATE'], format='%Y%m%d')\n",
    "    chars_df = chars_df[(chars_df['DATE'].dt.year >= MIN_YEAR) & (chars_df['DATE'].dt.year <= MAX_YEAR)]\n",
    "    chars_df = chars_df.sort_values(\"DATE\")\n",
    "    chars_df.to_parquet(FILEPATH_PARQ, index=False, compression=\"snappy\")\n",
    "else:\n",
    "    chars_df = pd.read_parquet(FILEPATH_PRE_PARQ) # use FILEPATH_PARQ without preproc or FILEPATH_PRE_PARQ\n",
    "\n",
    "chars_df.head(5)"
   ]
  },
  {
   "cell_type": "markdown",
   "metadata": {},
   "source": [
    "## Sanitinzation and Feature Engineering\n",
    "\n",
    "To sanitinize we drop any company with insufficiant data to fill a window, and we fill any missing characteristic with the median of that window. We then perform a rolling window to calculate the MOM factor for 2 to 64 months, the data already has a rolling 1 month momentum. To read about momentum stratgies check out the article [Momentum and Reversion Trading Signals Analysis](https://medium.com/call-for-atlas/momentum-and-reversion-the-poor-mans-trading-strategies-9b8e1e6d3496).\n"
   ]
  },
  {
   "cell_type": "code",
   "execution_count": null,
   "metadata": {},
   "outputs": [],
   "source": [
    "def interpolate_with_median(group):\n",
    "    rolling_median = group.rolling(window=WINDOW, min_periods=1).median()\n",
    "    group= group.fillna(rolling_median).bfill()\n",
    "\n",
    "    return group\n",
    "\n",
    "\n",
    "PRE_PROC=False\n",
    "if PRE_PROC:\n",
    "    valid_groups = chars_df.groupby('permno').filter(lambda x: len(x) >= WINDOW and x['mom1m'].isna().sum() <= 2)\n",
    "    for i in tqdm(range(2, WINDOW + 1), desc=\"moms\"):\n",
    "        rolling_func = lambda x: (x + 1).rolling(window=i).apply(np.prod, raw=True) - 1\n",
    "        valid_groups[f'mom{i}m'] = valid_groups.groupby('permno')['mom1m'].transform(rolling_func)\n",
    "\n",
    "    numerical_columns = valid_groups.select_dtypes(include=['float64', 'int64']).columns\n",
    "\n",
    "    tqdm.pandas(desc=\"interpolate_with_median\")\n",
    "    valid_groups[numerical_columns]= valid_groups.groupby('permno')[numerical_columns].progress_transform(lambda x: interpolate_with_median(x))\n",
    "    valid_groups.to_parquet(FILEPATH_PRE_PARQ, index=False, compression=\"snappy\")\n",
    "    chars_df = valid_groups\n",
    "\n",
    "chars_df.tail(5)"
   ]
  },
  {
   "cell_type": "markdown",
   "metadata": {},
   "source": [
    "## Firm Characteristics\n",
    "\n",
    "| Acronym  | Firm characteristic                                           | Acronym    | Firm characteristic                                       |\n",
    "|----------|--------------------------------------------------------------|------------|----------------------------------------------------------|\n",
    "| absacc   | Absolute accruals                                            | invest     | Capital expenditures and inventory                        |\n",
    "| acc      | Working capital accruals                                     | IPO        | New equity issue                                          |\n",
    "| aeavol   | Abnormal earnings announcement volume                        | lev        | Leverage                                                  |\n",
    "| age      | # years since first Compustat coverage                       | lgr        | Growth in long-term debt                                  |\n",
    "| agr      | Asset growth                                                  | maxret     | Maximum daily return                                      |\n",
    "| baspread | Bid-ask spread                                               | ms         | Financial statement score                                 |\n",
    "| beta     | Beta                                                         | mve        | Size                                                      |\n",
    "| betasq   | Beta squared                                                 | mve ia     | Industry-adjusted size                                    |\n",
    "| bm       | Book-to-market                                               | nincr      | Number of earnings increases                              |\n",
    "| bm ia    | Industry-adjusted book to market                             | operprof   | Operating profitability                                   |\n",
    "| cash     | Cash holdings                                                | pchcapx ia | Industry adjusted % change in capital expenditures        |\n",
    "| cashdebt | Cash flow to debt                                            | pchcurrat  | % change in current ratio                                 |\n",
    "| cashpr   | Cash productivity                                            | pchdepr    | % change in depreciation                                  |\n",
    "| cfp      | Cash flow to price ratio                                     | pchgm      | % change in gross margin                                  |\n",
    "| cfp ia   | Industry-adjusted cash flow to price ratio                   | pchsale    | % change in sales                                         |\n",
    "| chatoia  | Industry-adjusted change in asset turnover                   | pchquick   | % change in quick ratio                                   |\n",
    "| chcsho   | Change in shares outstanding                                 | pctacc     | Percent accruals                                          |\n",
    "| chempia  | Industry-adjusted change in employees                        | pricedelay | Price delay                                               |\n",
    "| chinv    | Change in inventory                                          | ps         | Financial statements score                                |\n",
    "| chmom    | Change in 6-month momentum                                   | quick      | Quick ratio                                               |\n",
    "| chpmia   | Industry-adjusted change in profit margin                    | rd         | R&D increase                                              |\n",
    "| chtx     | Change in tax expense                                        | retvol     | Return volatility                                         |\n",
    "| cinvest  | Corporate investment                                         | roaq       | Return on assets                                          |\n",
    "| convind  | Convertible debt indicator                                   | roeq       | Return on equity                                          |\n",
    "| currat   | Current ratio                                                | roic       | Return on invested capital                                |\n",
    "| depr     | Depreciation / PP&E                                          | rsup       | Revenue surprise                                          |\n",
    "| divi     | Dividend initiation                                          | sgr        | Sales growth                                              |\n",
    "| divo     | Dividend omission                                            | sin        | Sin stocks                                                |\n",
    "| dolvol   | Dollar trading volume                                        | SP         | Sales to price                                            |\n",
    "| dy       | Dividend to price                                            | std dolvol | Volatility of liquidity (dollar trading volume)          |\n",
    "| ear      | Earnings announcement return                                 | std turn   | Volatility of liquidity (share turnover)                  |\n",
    "| egr      | Growth in common shareholder equity                          | sue        | Unexpected quarterly earnings                             |\n",
    "| ep       | Earnings to price                                            | tang       | Debt capacity/firm tangibility                            |\n",
    "| gma      | Gross profitability                                          | tb         | Tax income to book income                                 |\n",
    "| herf     | Industry sales concentration                                 | turn       | Share turnover                                            |\n",
    "| hire     | Employee growth rate                                         | zerotrade  | Zero trading days                                         |\n",
    "| idiovol  | Idiosyncratic return volatility                              |            |                                                           |\n",
    "| ill      | Illiquidity                                                  |            |                                                           |\n",
    "| indmom   | Industry momentum                                            |            |                                                           |\n",
    "\n",
    "\n",
    "Additionally, there are PERMNO columns to ID the company, and a **SIC code** to ID the industry from [NAICS](https://www.naics.com/sic-codes-industry-drilldown/) to compliment the industires momentum **INDMOM**.\n"
   ]
  },
  {
   "cell_type": "markdown",
   "metadata": {},
   "source": [
    "## Dim Reduction with PCA\n",
    "\n",
    "We perform standardization and PCA at 95% variance, to center the data's means for the clustering algorithims and reduce its dimensionality."
   ]
  },
  {
   "cell_type": "code",
   "execution_count": null,
   "metadata": {},
   "outputs": [],
   "source": [
    "import pandas as pd\n",
    "from sklearn.decomposition import PCA\n",
    "from sklearn.preprocessing import StandardScaler\n",
    "from sklearn.pipeline import Pipeline\n",
    "\n",
    "chars_pca_df = chars_df.copy()\n",
    "\n",
    "scaler = StandardScaler()\n",
    "pca = PCA(0.95)\n",
    "\n",
    "features_df = chars_pca_df.drop(['DATE', 'permno'], axis=1).bfill()\n",
    "\n",
    "pipeline = Pipeline([('scaler', scaler), ('pca', pca)])\n",
    "pca_df = pipeline.fit_transform(features_df)\n",
    "\n",
    "pca_result_df = pd.DataFrame(data=pca_df, index=chars_pca_df.index)\n",
    "pca_components_cols = pca_result_df.columns\n",
    "pca_result_df['permno'] = chars_pca_df['permno']\n",
    "pca_result_df.index = chars_pca_df['DATE']\n",
    "pca_result_df.tail(1)"
   ]
  },
  {
   "cell_type": "markdown",
   "metadata": {},
   "source": [
    "# Cluster Agglomerative"
   ]
  },
  {
   "cell_type": "code",
   "execution_count": null,
   "metadata": {},
   "outputs": [],
   "source": [
    "import numpy as np\n",
    "import pandas as pd\n",
    "from sklearn.neighbors import NearestNeighbors\n",
    "from sklearn.cluster import AgglomerativeClustering\n",
    "\n",
    "models_dfs = []\n",
    "cluster_membership = []\n",
    "for quarter, data in tqdm(pca_result_df.groupby(pd.Grouper(freq='Q')), desc=\"Processing quarters\"):\n",
    "    # Use only the PCA components for nearest neighbors and clustering\n",
    "    pca_data = data[pca_components_cols]\n",
    "    if len(pca_data) < 2:\n",
    "        print(f\"Skipping {quarter} due to insufficient data.\")\n",
    "        continue\n",
    "\n",
    "    neigh = NearestNeighbors(n_neighbors=2)\n",
    "    nbrs = neigh.fit(pca_data)\n",
    "    distances, indices = nbrs.kneighbors(pca_data)\n",
    "\n",
    "    # Sort distances and find the distance threshold using a percentile\n",
    "    distances = np.sort(distances, axis=0)\n",
    "    distances = distances[:, 1]  # Get the distances to the nearest neighbor\n",
    "    distance_alpha_thresh = np.percentile(distances, 30)  # Corrected percentile calculation\n",
    "    agg_model = AgglomerativeClustering(n_clusters=None, distance_threshold=distance_alpha_thresh,  linkage='average')\n",
    "    agg_model.fit(pca_data)\n",
    "\n",
    "    data['Cluster'] = agg_model.labels_\n",
    "    cluster_membership.append(data[['permno', 'Cluster']])\n",
    "\n",
    "    models_dfs.append({'Quarter': f\"{quarter.year}-Q{quarter.quarter}\", 'NumClusters': agg_model.n_clusters_})\n",
    "\n",
    "models_df = pd.DataFrame(models_dfs)\n",
    "cluster_membership_df = pd.concat(cluster_membership)\n",
    "\n",
    "cluster_membership_df"
   ]
  },
  {
   "cell_type": "code",
   "execution_count": null,
   "metadata": {},
   "outputs": [],
   "source": [
    "models_df"
   ]
  }
 ],
 "metadata": {
  "kernelspec": {
   "display_name": "quant",
   "language": "python",
   "name": "python3"
  },
  "language_info": {
   "codemirror_mode": {
    "name": "ipython",
    "version": 3
   },
   "file_extension": ".py",
   "mimetype": "text/x-python",
   "name": "python",
   "nbconvert_exporter": "python",
   "pygments_lexer": "ipython3",
   "version": "3.11.0"
  }
 },
 "nbformat": 4,
 "nbformat_minor": 2
}
