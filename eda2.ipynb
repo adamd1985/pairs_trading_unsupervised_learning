{
 "cells": [
  {
   "cell_type": "code",
   "execution_count": 1,
   "metadata": {},
   "outputs": [],
   "source": [
    "# Import / install relevant Python packages\n",
    "import numpy as np\n",
    "import pandas as pd\n",
    "import datetime as dt\n",
    "import matplotlib.pyplot as plt\n",
    "import seaborn as sns"
   ]
  },
  {
   "cell_type": "code",
   "execution_count": 2,
   "metadata": {},
   "outputs": [],
   "source": [
    "window = 48\n",
    "# I will continue with 2 ( since in paper it is used average for 1990 - 2020 - 3157 )\n",
    "# and with using 2 I get 3284 ( for 1 is 2878)\n",
    "max_number_of_nulls_in_observation = 2"
   ]
  },
  {
   "cell_type": "code",
   "execution_count": 3,
   "metadata": {},
   "outputs": [],
   "source": [
    "feature_names_list = ['mom1m','absacc','acc','aeavol','age','agr','baspread',\n",
    "'beta','betasq','bm','bm_ia','cash','cashdebt','cashpr','cfp','cfp_ia',\n",
    "'chatoia','chcsho','chempia','chinv','chmom','chpmia','chtx','cinvest',\n",
    "'convind','currat','depr','divi','divo','dolvol','dy','ear','egr','ep',\n",
    "'gma','herf','hire','idiovol','ill','indmom','invest','lev','lgr','maxret',\n",
    "'ms','mve_ia','mvel1','nincr','operprof','pchcapx_ia','pchcurrat','pchdepr',\n",
    "'pchgm_pchsale','pchquick','pchsale_pchrect','pctacc','pricedelay',\n",
    "'ps','quick','rd','retvol','roaq','roeq','roic','rsup','salecash',\n",
    "'salerec','securedind','sgr','sin','sp','std_dolvol','std_turn',\n",
    "'tang','tb','turn','zerotrade']"
   ]
  },
  {
   "cell_type": "code",
   "execution_count": 4,
   "metadata": {},
   "outputs": [],
   "source": [
    "mom_names_list = [\"mom1m\",\"mom2m\",\"mom3m\",\"mom4m\",\"mom5m\",\"mom6m\",\"mom7m\",\"mom8m\",\"mom9m\",\"mom10m\",\"mom11m\",\"mom12m\",\n",
    "                \"mom13m\",\"mom14m\",\"mom15m\",\"mom16m\",\"mom17m\",\"mom18m\",\"mom19m\",\"mom20m\",\"mom21m\",\"mom22m\",\"mom23m\",\"mom24m\",\n",
    "                \"mom25m\",\"mom26m\",\"mom27m\",\"mom28m\",\"mom29m\",\"mom30m\",\"mom31m\",\"mom32m\",\"mom33m\",\"mom34m\",\"mom35m\",\"mom36m\",\n",
    "                \"mom37m\",\"mom38m\",\"mom39m\",\"mom40m\",\"mom41m\",\"mom42m\",\"mom43m\",\"mom44m\",\"mom45m\",\"mom46m\",\"mom47m\",\"mom48m\"]\n"
   ]
  },
  {
   "cell_type": "code",
   "execution_count": 5,
   "metadata": {},
   "outputs": [
    {
     "ename": "FileNotFoundError",
     "evalue": "[Errno 2] No such file or directory: 'D:/USB Drive/Data/DachengXiu/df_radni.csv'",
     "output_type": "error",
     "traceback": [
      "\u001b[1;31m---------------------------------------------------------------------------\u001b[0m",
      "\u001b[1;31mFileNotFoundError\u001b[0m                         Traceback (most recent call last)",
      "Cell \u001b[1;32mIn[5], line 1\u001b[0m\n\u001b[1;32m----> 1\u001b[0m df_radni \u001b[38;5;241m=\u001b[39m \u001b[43mpd\u001b[49m\u001b[38;5;241;43m.\u001b[39;49m\u001b[43mread_csv\u001b[49m\u001b[43m(\u001b[49m\u001b[38;5;124;43m'\u001b[39;49m\u001b[38;5;124;43mD:/USB Drive/Data/DachengXiu/df_radni.csv\u001b[39;49m\u001b[38;5;124;43m'\u001b[39;49m\u001b[43m)\u001b[49m\n",
      "File \u001b[1;32mc:\\Users\\adamd\\.conda\\envs\\quant\\Lib\\site-packages\\pandas\\io\\parsers\\readers.py:1024\u001b[0m, in \u001b[0;36mread_csv\u001b[1;34m(filepath_or_buffer, sep, delimiter, header, names, index_col, usecols, dtype, engine, converters, true_values, false_values, skipinitialspace, skiprows, skipfooter, nrows, na_values, keep_default_na, na_filter, verbose, skip_blank_lines, parse_dates, infer_datetime_format, keep_date_col, date_parser, date_format, dayfirst, cache_dates, iterator, chunksize, compression, thousands, decimal, lineterminator, quotechar, quoting, doublequote, escapechar, comment, encoding, encoding_errors, dialect, on_bad_lines, delim_whitespace, low_memory, memory_map, float_precision, storage_options, dtype_backend)\u001b[0m\n\u001b[0;32m   1011\u001b[0m kwds_defaults \u001b[38;5;241m=\u001b[39m _refine_defaults_read(\n\u001b[0;32m   1012\u001b[0m     dialect,\n\u001b[0;32m   1013\u001b[0m     delimiter,\n\u001b[1;32m   (...)\u001b[0m\n\u001b[0;32m   1020\u001b[0m     dtype_backend\u001b[38;5;241m=\u001b[39mdtype_backend,\n\u001b[0;32m   1021\u001b[0m )\n\u001b[0;32m   1022\u001b[0m kwds\u001b[38;5;241m.\u001b[39mupdate(kwds_defaults)\n\u001b[1;32m-> 1024\u001b[0m \u001b[38;5;28;01mreturn\u001b[39;00m \u001b[43m_read\u001b[49m\u001b[43m(\u001b[49m\u001b[43mfilepath_or_buffer\u001b[49m\u001b[43m,\u001b[49m\u001b[43m \u001b[49m\u001b[43mkwds\u001b[49m\u001b[43m)\u001b[49m\n",
      "File \u001b[1;32mc:\\Users\\adamd\\.conda\\envs\\quant\\Lib\\site-packages\\pandas\\io\\parsers\\readers.py:618\u001b[0m, in \u001b[0;36m_read\u001b[1;34m(filepath_or_buffer, kwds)\u001b[0m\n\u001b[0;32m    615\u001b[0m _validate_names(kwds\u001b[38;5;241m.\u001b[39mget(\u001b[38;5;124m\"\u001b[39m\u001b[38;5;124mnames\u001b[39m\u001b[38;5;124m\"\u001b[39m, \u001b[38;5;28;01mNone\u001b[39;00m))\n\u001b[0;32m    617\u001b[0m \u001b[38;5;66;03m# Create the parser.\u001b[39;00m\n\u001b[1;32m--> 618\u001b[0m parser \u001b[38;5;241m=\u001b[39m \u001b[43mTextFileReader\u001b[49m\u001b[43m(\u001b[49m\u001b[43mfilepath_or_buffer\u001b[49m\u001b[43m,\u001b[49m\u001b[43m \u001b[49m\u001b[38;5;241;43m*\u001b[39;49m\u001b[38;5;241;43m*\u001b[39;49m\u001b[43mkwds\u001b[49m\u001b[43m)\u001b[49m\n\u001b[0;32m    620\u001b[0m \u001b[38;5;28;01mif\u001b[39;00m chunksize \u001b[38;5;129;01mor\u001b[39;00m iterator:\n\u001b[0;32m    621\u001b[0m     \u001b[38;5;28;01mreturn\u001b[39;00m parser\n",
      "File \u001b[1;32mc:\\Users\\adamd\\.conda\\envs\\quant\\Lib\\site-packages\\pandas\\io\\parsers\\readers.py:1618\u001b[0m, in \u001b[0;36mTextFileReader.__init__\u001b[1;34m(self, f, engine, **kwds)\u001b[0m\n\u001b[0;32m   1615\u001b[0m     \u001b[38;5;28mself\u001b[39m\u001b[38;5;241m.\u001b[39moptions[\u001b[38;5;124m\"\u001b[39m\u001b[38;5;124mhas_index_names\u001b[39m\u001b[38;5;124m\"\u001b[39m] \u001b[38;5;241m=\u001b[39m kwds[\u001b[38;5;124m\"\u001b[39m\u001b[38;5;124mhas_index_names\u001b[39m\u001b[38;5;124m\"\u001b[39m]\n\u001b[0;32m   1617\u001b[0m \u001b[38;5;28mself\u001b[39m\u001b[38;5;241m.\u001b[39mhandles: IOHandles \u001b[38;5;241m|\u001b[39m \u001b[38;5;28;01mNone\u001b[39;00m \u001b[38;5;241m=\u001b[39m \u001b[38;5;28;01mNone\u001b[39;00m\n\u001b[1;32m-> 1618\u001b[0m \u001b[38;5;28mself\u001b[39m\u001b[38;5;241m.\u001b[39m_engine \u001b[38;5;241m=\u001b[39m \u001b[38;5;28;43mself\u001b[39;49m\u001b[38;5;241;43m.\u001b[39;49m\u001b[43m_make_engine\u001b[49m\u001b[43m(\u001b[49m\u001b[43mf\u001b[49m\u001b[43m,\u001b[49m\u001b[43m \u001b[49m\u001b[38;5;28;43mself\u001b[39;49m\u001b[38;5;241;43m.\u001b[39;49m\u001b[43mengine\u001b[49m\u001b[43m)\u001b[49m\n",
      "File \u001b[1;32mc:\\Users\\adamd\\.conda\\envs\\quant\\Lib\\site-packages\\pandas\\io\\parsers\\readers.py:1878\u001b[0m, in \u001b[0;36mTextFileReader._make_engine\u001b[1;34m(self, f, engine)\u001b[0m\n\u001b[0;32m   1876\u001b[0m     \u001b[38;5;28;01mif\u001b[39;00m \u001b[38;5;124m\"\u001b[39m\u001b[38;5;124mb\u001b[39m\u001b[38;5;124m\"\u001b[39m \u001b[38;5;129;01mnot\u001b[39;00m \u001b[38;5;129;01min\u001b[39;00m mode:\n\u001b[0;32m   1877\u001b[0m         mode \u001b[38;5;241m+\u001b[39m\u001b[38;5;241m=\u001b[39m \u001b[38;5;124m\"\u001b[39m\u001b[38;5;124mb\u001b[39m\u001b[38;5;124m\"\u001b[39m\n\u001b[1;32m-> 1878\u001b[0m \u001b[38;5;28mself\u001b[39m\u001b[38;5;241m.\u001b[39mhandles \u001b[38;5;241m=\u001b[39m \u001b[43mget_handle\u001b[49m\u001b[43m(\u001b[49m\n\u001b[0;32m   1879\u001b[0m \u001b[43m    \u001b[49m\u001b[43mf\u001b[49m\u001b[43m,\u001b[49m\n\u001b[0;32m   1880\u001b[0m \u001b[43m    \u001b[49m\u001b[43mmode\u001b[49m\u001b[43m,\u001b[49m\n\u001b[0;32m   1881\u001b[0m \u001b[43m    \u001b[49m\u001b[43mencoding\u001b[49m\u001b[38;5;241;43m=\u001b[39;49m\u001b[38;5;28;43mself\u001b[39;49m\u001b[38;5;241;43m.\u001b[39;49m\u001b[43moptions\u001b[49m\u001b[38;5;241;43m.\u001b[39;49m\u001b[43mget\u001b[49m\u001b[43m(\u001b[49m\u001b[38;5;124;43m\"\u001b[39;49m\u001b[38;5;124;43mencoding\u001b[39;49m\u001b[38;5;124;43m\"\u001b[39;49m\u001b[43m,\u001b[49m\u001b[43m \u001b[49m\u001b[38;5;28;43;01mNone\u001b[39;49;00m\u001b[43m)\u001b[49m\u001b[43m,\u001b[49m\n\u001b[0;32m   1882\u001b[0m \u001b[43m    \u001b[49m\u001b[43mcompression\u001b[49m\u001b[38;5;241;43m=\u001b[39;49m\u001b[38;5;28;43mself\u001b[39;49m\u001b[38;5;241;43m.\u001b[39;49m\u001b[43moptions\u001b[49m\u001b[38;5;241;43m.\u001b[39;49m\u001b[43mget\u001b[49m\u001b[43m(\u001b[49m\u001b[38;5;124;43m\"\u001b[39;49m\u001b[38;5;124;43mcompression\u001b[39;49m\u001b[38;5;124;43m\"\u001b[39;49m\u001b[43m,\u001b[49m\u001b[43m \u001b[49m\u001b[38;5;28;43;01mNone\u001b[39;49;00m\u001b[43m)\u001b[49m\u001b[43m,\u001b[49m\n\u001b[0;32m   1883\u001b[0m \u001b[43m    \u001b[49m\u001b[43mmemory_map\u001b[49m\u001b[38;5;241;43m=\u001b[39;49m\u001b[38;5;28;43mself\u001b[39;49m\u001b[38;5;241;43m.\u001b[39;49m\u001b[43moptions\u001b[49m\u001b[38;5;241;43m.\u001b[39;49m\u001b[43mget\u001b[49m\u001b[43m(\u001b[49m\u001b[38;5;124;43m\"\u001b[39;49m\u001b[38;5;124;43mmemory_map\u001b[39;49m\u001b[38;5;124;43m\"\u001b[39;49m\u001b[43m,\u001b[49m\u001b[43m \u001b[49m\u001b[38;5;28;43;01mFalse\u001b[39;49;00m\u001b[43m)\u001b[49m\u001b[43m,\u001b[49m\n\u001b[0;32m   1884\u001b[0m \u001b[43m    \u001b[49m\u001b[43mis_text\u001b[49m\u001b[38;5;241;43m=\u001b[39;49m\u001b[43mis_text\u001b[49m\u001b[43m,\u001b[49m\n\u001b[0;32m   1885\u001b[0m \u001b[43m    \u001b[49m\u001b[43merrors\u001b[49m\u001b[38;5;241;43m=\u001b[39;49m\u001b[38;5;28;43mself\u001b[39;49m\u001b[38;5;241;43m.\u001b[39;49m\u001b[43moptions\u001b[49m\u001b[38;5;241;43m.\u001b[39;49m\u001b[43mget\u001b[49m\u001b[43m(\u001b[49m\u001b[38;5;124;43m\"\u001b[39;49m\u001b[38;5;124;43mencoding_errors\u001b[39;49m\u001b[38;5;124;43m\"\u001b[39;49m\u001b[43m,\u001b[49m\u001b[43m \u001b[49m\u001b[38;5;124;43m\"\u001b[39;49m\u001b[38;5;124;43mstrict\u001b[39;49m\u001b[38;5;124;43m\"\u001b[39;49m\u001b[43m)\u001b[49m\u001b[43m,\u001b[49m\n\u001b[0;32m   1886\u001b[0m \u001b[43m    \u001b[49m\u001b[43mstorage_options\u001b[49m\u001b[38;5;241;43m=\u001b[39;49m\u001b[38;5;28;43mself\u001b[39;49m\u001b[38;5;241;43m.\u001b[39;49m\u001b[43moptions\u001b[49m\u001b[38;5;241;43m.\u001b[39;49m\u001b[43mget\u001b[49m\u001b[43m(\u001b[49m\u001b[38;5;124;43m\"\u001b[39;49m\u001b[38;5;124;43mstorage_options\u001b[39;49m\u001b[38;5;124;43m\"\u001b[39;49m\u001b[43m,\u001b[49m\u001b[43m \u001b[49m\u001b[38;5;28;43;01mNone\u001b[39;49;00m\u001b[43m)\u001b[49m\u001b[43m,\u001b[49m\n\u001b[0;32m   1887\u001b[0m \u001b[43m\u001b[49m\u001b[43m)\u001b[49m\n\u001b[0;32m   1888\u001b[0m \u001b[38;5;28;01massert\u001b[39;00m \u001b[38;5;28mself\u001b[39m\u001b[38;5;241m.\u001b[39mhandles \u001b[38;5;129;01mis\u001b[39;00m \u001b[38;5;129;01mnot\u001b[39;00m \u001b[38;5;28;01mNone\u001b[39;00m\n\u001b[0;32m   1889\u001b[0m f \u001b[38;5;241m=\u001b[39m \u001b[38;5;28mself\u001b[39m\u001b[38;5;241m.\u001b[39mhandles\u001b[38;5;241m.\u001b[39mhandle\n",
      "File \u001b[1;32mc:\\Users\\adamd\\.conda\\envs\\quant\\Lib\\site-packages\\pandas\\io\\common.py:873\u001b[0m, in \u001b[0;36mget_handle\u001b[1;34m(path_or_buf, mode, encoding, compression, memory_map, is_text, errors, storage_options)\u001b[0m\n\u001b[0;32m    868\u001b[0m \u001b[38;5;28;01melif\u001b[39;00m \u001b[38;5;28misinstance\u001b[39m(handle, \u001b[38;5;28mstr\u001b[39m):\n\u001b[0;32m    869\u001b[0m     \u001b[38;5;66;03m# Check whether the filename is to be opened in binary mode.\u001b[39;00m\n\u001b[0;32m    870\u001b[0m     \u001b[38;5;66;03m# Binary mode does not support 'encoding' and 'newline'.\u001b[39;00m\n\u001b[0;32m    871\u001b[0m     \u001b[38;5;28;01mif\u001b[39;00m ioargs\u001b[38;5;241m.\u001b[39mencoding \u001b[38;5;129;01mand\u001b[39;00m \u001b[38;5;124m\"\u001b[39m\u001b[38;5;124mb\u001b[39m\u001b[38;5;124m\"\u001b[39m \u001b[38;5;129;01mnot\u001b[39;00m \u001b[38;5;129;01min\u001b[39;00m ioargs\u001b[38;5;241m.\u001b[39mmode:\n\u001b[0;32m    872\u001b[0m         \u001b[38;5;66;03m# Encoding\u001b[39;00m\n\u001b[1;32m--> 873\u001b[0m         handle \u001b[38;5;241m=\u001b[39m \u001b[38;5;28;43mopen\u001b[39;49m\u001b[43m(\u001b[49m\n\u001b[0;32m    874\u001b[0m \u001b[43m            \u001b[49m\u001b[43mhandle\u001b[49m\u001b[43m,\u001b[49m\n\u001b[0;32m    875\u001b[0m \u001b[43m            \u001b[49m\u001b[43mioargs\u001b[49m\u001b[38;5;241;43m.\u001b[39;49m\u001b[43mmode\u001b[49m\u001b[43m,\u001b[49m\n\u001b[0;32m    876\u001b[0m \u001b[43m            \u001b[49m\u001b[43mencoding\u001b[49m\u001b[38;5;241;43m=\u001b[39;49m\u001b[43mioargs\u001b[49m\u001b[38;5;241;43m.\u001b[39;49m\u001b[43mencoding\u001b[49m\u001b[43m,\u001b[49m\n\u001b[0;32m    877\u001b[0m \u001b[43m            \u001b[49m\u001b[43merrors\u001b[49m\u001b[38;5;241;43m=\u001b[39;49m\u001b[43merrors\u001b[49m\u001b[43m,\u001b[49m\n\u001b[0;32m    878\u001b[0m \u001b[43m            \u001b[49m\u001b[43mnewline\u001b[49m\u001b[38;5;241;43m=\u001b[39;49m\u001b[38;5;124;43m\"\u001b[39;49m\u001b[38;5;124;43m\"\u001b[39;49m\u001b[43m,\u001b[49m\n\u001b[0;32m    879\u001b[0m \u001b[43m        \u001b[49m\u001b[43m)\u001b[49m\n\u001b[0;32m    880\u001b[0m     \u001b[38;5;28;01melse\u001b[39;00m:\n\u001b[0;32m    881\u001b[0m         \u001b[38;5;66;03m# Binary mode\u001b[39;00m\n\u001b[0;32m    882\u001b[0m         handle \u001b[38;5;241m=\u001b[39m \u001b[38;5;28mopen\u001b[39m(handle, ioargs\u001b[38;5;241m.\u001b[39mmode)\n",
      "\u001b[1;31mFileNotFoundError\u001b[0m: [Errno 2] No such file or directory: 'D:/USB Drive/Data/DachengXiu/df_radni.csv'"
     ]
    }
   ],
   "source": [
    "\n",
    "df_radni = pd.read_csv('D:/USB Drive/Data/DachengXiu/df_radni.csv')"
   ]
  },
  {
   "cell_type": "code",
   "execution_count": null,
   "metadata": {},
   "outputs": [],
   "source": [
    "#how many nuuls per parameter - in dataset\n",
    "temp = df_radni.isnull().sum(axis = 1).sort_values()\n",
    "temp[temp > 0].plot.hist(bins=81, alpha=0.5)"
   ]
  },
  {
   "cell_type": "code",
   "execution_count": null,
   "metadata": {},
   "outputs": [],
   "source": [
    "#how many nuuls per parameter - after 1990\n",
    "temp = df_radni[(df_radni['DATE'] >= 19891231 )].isnull().sum(axis = 1).sort_values()\n",
    "temp[temp > 0].plot.hist(bins=81, alpha=0.5)"
   ]
  },
  {
   "cell_type": "code",
   "execution_count": null,
   "metadata": {},
   "outputs": [],
   "source": [
    "def how_many_companies(df_window):\n",
    "    #Last date\n",
    "    last_date = sorted(df_window['DATE'].unique())[-1]\n",
    "    #unique companies in window\n",
    "    unique_companies = df_window['permno'].unique()\n",
    "    list_of_companies_with_null_mom1m = []\n",
    "    for x in unique_companies:\n",
    "        #df for for all observatins for one company - should be 48 - if it less all shoud be droped\n",
    "        df_window_for_company = df_window[df_window['permno'] == x]\n",
    "        #length od window should be 48\n",
    "        length_of_window = len(df_window_for_company)\n",
    "        if (length_of_window == window):\n",
    "            #checking number of Null in mom1m in observations - max 48\n",
    "            number_of_null = df_window_for_company['mom1m'].isnull().sum()\n",
    "            if (number_of_null == 0):\n",
    "                #umber of nulls - we check if there is more then max_number_of_nulls_in_observation of features on last date\n",
    "                number_of_nulls_features = df_window_for_company[df_window_for_company[\"DATE\"] == last_date].isnull().sum(axis = 1).mean()\n",
    "                if not (number_of_nulls_features <= max_number_of_nulls_in_observation):\n",
    "                    list_of_companies_with_null_mom1m.append(x)\n",
    "            else:\n",
    "                list_of_companies_with_null_mom1m.append(x)\n",
    "        else:\n",
    "            list_of_companies_with_null_mom1m.append(x)\n",
    "    #drop observations of companies with more then max allowed number of null-s in features or withh less then 48 observations or with null in 48 obs of mom1\n",
    "    df_window = df_window[~df_window.permno.isin(list_of_companies_with_null_mom1m)]\n",
    "    return len(df_window['permno'].unique())"
   ]
  },
  {
   "cell_type": "code",
   "execution_count": null,
   "metadata": {},
   "outputs": [],
   "source": [
    "#checking number of companies after 1990\n",
    "df_radni_small = df_radni[(df_radni['DATE'] > 19851231) & (df_radni['DATE'] < 20210101)]"
   ]
  },
  {
   "cell_type": "code",
   "execution_count": null,
   "metadata": {},
   "outputs": [],
   "source": [
    "#go through list of dates\n",
    "results = []\n",
    "dates = sorted(df_radni_small['DATE'].unique())\n",
    "for date in range(window-1,len(dates)):\n",
    "    print( \"dates[i - window]\" , dates[date - window+1],\" dates[i] \" , dates[date])\n",
    "    df_window_working = df_radni_small[(df_radni_small['DATE'] >= dates[date - window+1] ) & (df_radni_small['DATE']  <= dates[date])]\n",
    "    results.append(how_many_companies(df_window_working))\n"
   ]
  },
  {
   "cell_type": "code",
   "execution_count": null,
   "metadata": {},
   "outputs": [],
   "source": [
    "from datetime import date\n",
    "\n",
    "\n",
    "def int2date(argdate: int) -> date:\n",
    "    \"\"\"\n",
    "    If you have date as an integer, use this method to obtain a datetime.date object.\n",
    "\n",
    "    Parameters\n",
    "    ----------\n",
    "    argdate : int\n",
    "      Date as a regular integer value (example: 20160618)\n",
    "\n",
    "    Returns\n",
    "    -------\n",
    "    dateandtime.date\n",
    "      A date object which corresponds to the given value `argdate`.\n",
    "    \"\"\"\n",
    "\n",
    "    dates = []\n",
    "\n",
    "    for i in argdate:\n",
    "      year = int(i / 10000)\n",
    "      month = int((i % 10000) / 100)\n",
    "      day = int(i % 100)\n",
    "      dates.append(date(year, month, day))\n",
    "\n",
    "    return dates"
   ]
  },
  {
   "cell_type": "code",
   "execution_count": null,
   "metadata": {},
   "outputs": [],
   "source": [
    "df_results = pd.DataFrame(np.column_stack([dates[window-1:(window + len(results))], results]),\n",
    "                               columns=['Dates', 'Number_of_companies'])\n",
    "df_results_dates = pd.DataFrame(np.column_stack([int2date(dates[(window-1):(window + len(results))]), results]),\n",
    "                               columns=['Dates', 'Number_of_companies'])\n"
   ]
  },
  {
   "cell_type": "code",
   "execution_count": null,
   "metadata": {},
   "outputs": [],
   "source": [
    "df_results_dates.plot(x=\"Dates\", y=\"Number_of_companies\")"
   ]
  },
  {
   "attachments": {},
   "cell_type": "markdown",
   "metadata": {},
   "source": [
    "We can see that every year on 08.31. there are more missing values then other months."
   ]
  },
  {
   "cell_type": "code",
   "execution_count": null,
   "metadata": {},
   "outputs": [],
   "source": [
    "df_results[(df_results['Dates']) > 19891231 & (df_results['Dates'] < 20210101)]['Number_of_companies'].mean()"
   ]
  },
  {
   "cell_type": "code",
   "execution_count": null,
   "metadata": {},
   "outputs": [],
   "source": []
  },
  {
   "cell_type": "code",
   "execution_count": null,
   "metadata": {},
   "outputs": [],
   "source": [
    "def clean_df_of_companies_with_non_adequate_observations(df_for_clean):\n",
    "    counter_less_48 = 0\n",
    "    counter_some_mom1m_null = 0\n",
    "    counter_more_nulls_in_features_than_alowed = 0\n",
    "    #Last date\n",
    "    last_date = sorted(df_for_clean['DATE'].unique())[-1]\n",
    "    #unique companies in window\n",
    "    unique_companies = df_for_clean['permno'].unique()\n",
    "    list_of_companies_with_null_mom1m = []\n",
    "    for x in unique_companies:\n",
    "        #df for for all observatins for one company - should be 48 - if it less all shoud be droped\n",
    "        df_for_clean_for_company = df_for_clean[df_for_clean['permno'] == x]\n",
    "        #length od window should be 48\n",
    "        length_of_window = len(df_for_clean_for_company)\n",
    "        if (length_of_window == window):\n",
    "            #checking number of Null in mom1ms in observations - max 48\n",
    "            number_of_null = df_for_clean_for_company['mom1m'].isnull().sum()\n",
    "            if (number_of_null == 0):\n",
    "                #umber of nulls - we check if there is more then max_number_of_nulls_in_observation of features on last date\n",
    "                number_of_nulls_features = df_for_clean_for_company[df_for_clean_for_company[\"DATE\"] == last_date].isnull().sum(axis = 1).mean()\n",
    "                if not (number_of_nulls_features <= max_number_of_nulls_in_observation):\n",
    "                    list_of_companies_with_null_mom1m.append(x)\n",
    "                    counter_more_nulls_in_features_than_alowed = counter_more_nulls_in_features_than_alowed +1\n",
    "            else:\n",
    "                list_of_companies_with_null_mom1m.append(x)\n",
    "                counter_some_mom1m_null = counter_some_mom1m_null +1\n",
    "        else:\n",
    "            list_of_companies_with_null_mom1m.append(x)\n",
    "            counter_less_48 = counter_less_48 +1\n",
    "    #drop observations of companies with more then max allowed number of null-s in features or withh less then 48 observations or with null in 48 obs of mom1\n",
    "    df_for_clean = df_for_clean[~df_for_clean.permno.isin(list_of_companies_with_null_mom1m)]\n",
    "    print(\"Length od window less then 48 \", counter_less_48,\" Number of Null in mom1ms \" ,counter_some_mom1m_null , \"Number of nulls in features more than alowed \", counter_more_nulls_in_features_than_alowed )\n",
    "    return df_for_clean"
   ]
  },
  {
   "cell_type": "code",
   "execution_count": null,
   "metadata": {},
   "outputs": [],
   "source": [
    "df_moms = pd.DataFrame(columns=mom_names_list[1:])\n",
    "df_empty_copy_of_radni = pd.DataFrame(data=None, columns=df_radni.columns, index=df_radni.index)\n",
    "df_with_moms = pd.concat([df_empty_copy_of_radni, df_moms],axis=1 ).iloc[0:0]\n"
   ]
  },
  {
   "cell_type": "code",
   "execution_count": null,
   "metadata": {},
   "outputs": [],
   "source": [
    "def add_moms_features_for_last_date_and_drop_observations_of_other_dates(df_for_adding_moms):\n",
    "    #adding empty moms columns\n",
    "    df_for_adding_moms = pd.concat([df_for_adding_moms, df_moms],axis=1 )\n",
    "    #Last date\n",
    "    last_date = sorted(df_for_adding_moms['DATE'].unique())[-1]\n",
    "    #go through list of companies\n",
    "    for company in df_for_adding_moms['permno'].unique():\n",
    "        #taking mom1m values from 48 rows\n",
    "        moms_list = df_for_adding_moms[df_for_adding_moms['permno'] == company].sort_values('DATE')\n",
    "        #detrming index of last date row\n",
    "        indeks = moms_list[moms_list['DATE']== last_date].index[0]\n",
    "        #making list of reverse order since it is from older date to newer\n",
    "        moms_list = moms_list['mom1m'].iloc[::-1].values.tolist()\n",
    "        #calculate moms from formula mom1m, mom2m = mom1(shifted 1), ... , momim = ( momi-1m + 1)* ( mom1(shifted i-1) + 1) -1\n",
    "        for i in range(2,len(moms_list)):\n",
    "            moms_list[i] = (moms_list[i-1]+1)*(moms_list[i]+1)-1\n",
    "        # fill values of moms ( from 48 rows ) to columns\n",
    "        df_for_adding_moms.loc[indeks,mom_names_list] = moms_list\n",
    "    #drop all exept last date\n",
    "    df_for_adding_moms = df_for_adding_moms[df_for_adding_moms['DATE'] == last_date]\n",
    "    return df_for_adding_moms"
   ]
  },
  {
   "cell_type": "code",
   "execution_count": null,
   "metadata": {},
   "outputs": [],
   "source": [
    "#go through list of dates\n",
    "results = []\n",
    "dates = sorted(df_radni['DATE'].unique())\n",
    "for date in range(window-1,len(dates)):\n",
    "    print( \"dates[i - window]\" , dates[date - window+1],\" dates[i] \" , dates[date])\n",
    "    df_window_working = df_radni[(df_radni['DATE'] >= dates[date - window +1] ) & (df_radni['DATE']  <= dates[date])]\n",
    "    df_window_cleaned = clean_df_of_companies_with_non_adequate_observations(df_window_working)\n",
    "    df_window_with_moms = add_moms_features_for_last_date_and_drop_observations_of_other_dates(df_window_cleaned)\n",
    "    #results.append(how_many_companies(df_window_working))\n",
    "    df_with_moms = pd.concat([df_with_moms, df_window_with_moms],axis=0 )\n"
   ]
  },
  {
   "cell_type": "code",
   "execution_count": null,
   "metadata": {},
   "outputs": [],
   "source": [
    "df_with_moms.to_csv('D:/USB Drive/Data/DachengXiu/df_with_moms.csv')"
   ]
  },
  {
   "cell_type": "code",
   "execution_count": null,
   "metadata": {},
   "outputs": [],
   "source": []
  },
  {
   "cell_type": "code",
   "execution_count": null,
   "metadata": {},
   "outputs": [],
   "source": [
    "df_with_moms = pd.read_csv('D:/USB Drive/Data/DachengXiu/df_with_moms.csv')"
   ]
  },
  {
   "cell_type": "code",
   "execution_count": null,
   "metadata": {},
   "outputs": [],
   "source": [
    "#how many nulls per parameter - in dataset\n",
    "temp = df_with_moms.isnull().sum(axis = 1).sort_values()\n",
    "temp[temp >= 0].plot.hist(bins=81, alpha=0.5)"
   ]
  },
  {
   "attachments": {},
   "cell_type": "markdown",
   "metadata": {},
   "source": [
    "It is small number in entire sample but is more important by date."
   ]
  },
  {
   "cell_type": "code",
   "execution_count": null,
   "metadata": {},
   "outputs": [],
   "source": [
    "#determing number of nulls by features\n",
    "count_nuns_by_feature=df_with_moms.isnull().astype(int).sum().sort_values(ascending = False)\n",
    "column_names_with_null_values_features_list = count_nuns_by_feature[count_nuns_by_feature > 0].sort_values(ascending = True).keys().values.tolist()"
   ]
  },
  {
   "cell_type": "code",
   "execution_count": null,
   "metadata": {},
   "outputs": [],
   "source": [
    "# Create a bar chart to visualize count of nulls by features\n",
    "plt.figure(figsize=(16, 96))\n",
    "count_nuns_by_feature[column_names_with_null_values_features_list].plot.barh()\n",
    "plt.show()"
   ]
  },
  {
   "cell_type": "code",
   "execution_count": null,
   "metadata": {},
   "outputs": [],
   "source": [
    "count_nuns_by_feature"
   ]
  },
  {
   "cell_type": "code",
   "execution_count": null,
   "metadata": {},
   "outputs": [],
   "source": [
    "#calculate nuns in features by date\n",
    "column_names_with_null_values_features_list.append(\"DATE\")\n",
    "df_nuuls_of_features_by_date = df_with_moms[column_names_with_null_values_features_list].copy()\n",
    "df_nuuls_of_features_by_date.set_index('DATE')\n",
    "column_names_with_null_values_features_list.remove(\"DATE\")\n",
    "df_nuuls_of_features_by_date[column_names_with_null_values_features_list]=df_nuuls_of_features_by_date[column_names_with_null_values_features_list].isnull().astype(int)\n",
    "df_nuuls_of_features_by_date = df_nuuls_of_features_by_date.groupby('DATE').sum()\n",
    "#df_nuuls_of_features_by_date = df_nuuls_of_features_by_date.groupby('DATE').sum().sort_values('tb',ascending=False)"
   ]
  },
  {
   "cell_type": "code",
   "execution_count": null,
   "metadata": {},
   "outputs": [],
   "source": [
    "#max missings values in features by single date\n",
    "df_nuuls_of_features_by_date.max().sort_values(ascending=False).head(10)"
   ]
  },
  {
   "attachments": {},
   "cell_type": "markdown",
   "metadata": {},
   "source": [
    "We can see that:\n",
    "- tb has most missing values. This 535 was on 20051031 and tb was only missing value. tb is not bigger than 16%\n",
    "- chtx 324 on 19830729.Few months before and after there were some values missing but after there is no missing values for chtx\n",
    "- bm,bm_ia las few dates are miising 20211231\n",
    "- aeavol is few months oround 19830531\n",
    "- operprof is more frequent but is not bigger than 6%\n",
    "\n",
    "In general tb and operprof are more frequent. Others are just pop up for few months on  the level lower than tb."
   ]
  },
  {
   "cell_type": "code",
   "execution_count": null,
   "metadata": {},
   "outputs": [],
   "source": [
    "#percentage of tb and operprof missing values by date\n",
    "df_tb_operprof_by_date = pd.merge(df_nuuls_of_features_by_date[['tb','operprof']],df_with_moms.groupby('DATE').count()['permno'], on=[\"DATE\",\"DATE\"])\n",
    "df_tb_operprof_by_date[\"tb %\"] = df_tb_operprof_by_date['tb']/df_tb_operprof_by_date['permno']*100\n",
    "df_tb_operprof_by_date[\"operprof %\"] = df_tb_operprof_by_date['operprof']/df_tb_operprof_by_date['permno']*100\n",
    "df_tb_operprof_by_date = df_tb_operprof_by_date.drop('tb',axis=1)\n",
    "df_tb_operprof_by_date = df_tb_operprof_by_date.drop('operprof',axis=1)\n",
    "df_tb_operprof_by_date = df_tb_operprof_by_date.drop('permno',axis=1)\n",
    "df_tb_operprof_by_date.plot()"
   ]
  },
  {
   "attachments": {},
   "cell_type": "markdown",
   "metadata": {},
   "source": [
    "If we inpute median values, it is dificult to estimate if max 16% imputed values, in one of out of 76 ( 76+48=124 ) features would make spurious conclusions.\n",
    "All analysis should be taken for max_number_of_nulls_in_observation = 1 and max_number_of_nulls_in_observation = 0 ( we are using 2 since it give us same average number of companies as it is stated in paper)"
   ]
  },
  {
   "cell_type": "code",
   "execution_count": null,
   "metadata": {},
   "outputs": [],
   "source": [
    "#go through list of dates and fill NA with medion for that date\n",
    "dates_for_imputation = sorted(df_with_moms['DATE'].unique())\n",
    "for date in dates_for_imputation:\n",
    "    df_with_moms[df_with_moms['DATE'] == date] = df_with_moms[df_with_moms['DATE'] == date].mask(df_with_moms[df_with_moms['DATE'] == date].isna(), other=df_with_moms[df_with_moms['DATE'] == date].median(), axis=1)"
   ]
  },
  {
   "cell_type": "code",
   "execution_count": null,
   "metadata": {},
   "outputs": [],
   "source": [
    "df_describe=df_with_moms[feature_names_list].describe(percentiles=[0.01,0.05, 0.5,0.95, 0.99])"
   ]
  },
  {
   "cell_type": "code",
   "execution_count": null,
   "metadata": {},
   "outputs": [],
   "source": [
    "(df_describe.T['max']/df_describe.T['95%']).sort_values(ascending=False).head(25)"
   ]
  },
  {
   "cell_type": "code",
   "execution_count": null,
   "metadata": {},
   "outputs": [],
   "source": [
    "df_describe"
   ]
  },
  {
   "cell_type": "code",
   "execution_count": null,
   "metadata": {},
   "outputs": [],
   "source": [
    "# EDA: Plot histograms for all variables (features + target)\n",
    "df_with_moms[feature_names_list].hist(figsize=(36, 24), bins=50, edgecolor='black')\n",
    "plt.subplots_adjust(hspace=0.5, wspace=0.5)\n",
    "plt.show()"
   ]
  },
  {
   "attachments": {},
   "cell_type": "markdown",
   "metadata": {},
   "source": [
    "We are looking for similar companies, so by winzdorize or some other treatment of outliers could make more demage than benefit?"
   ]
  },
  {
   "cell_type": "code",
   "execution_count": null,
   "metadata": {},
   "outputs": [],
   "source": [
    "#df_with_moms.to_csv('D:/USB Drive/Data/DachengXiu/df_preprocessing_done.csv')"
   ]
  }
 ],
 "metadata": {
  "kernelspec": {
   "display_name": "Python 3",
   "language": "python",
   "name": "python3"
  },
  "language_info": {
   "codemirror_mode": {
    "name": "ipython",
    "version": 3
   },
   "file_extension": ".py",
   "mimetype": "text/x-python",
   "name": "python",
   "nbconvert_exporter": "python",
   "pygments_lexer": "ipython3",
   "version": "3.11.0"
  },
  "orig_nbformat": 4,
  "vscode": {
   "interpreter": {
    "hash": "ead398d1f62d3de1ff81f1555316da2088b087e145651ae83a7acff8e232f088"
   }
  }
 },
 "nbformat": 4,
 "nbformat_minor": 2
}
